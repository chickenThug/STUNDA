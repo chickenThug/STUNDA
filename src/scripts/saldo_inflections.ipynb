{
 "cells": [
  {
   "cell_type": "code",
   "execution_count": 1,
   "metadata": {},
   "outputs": [],
   "source": [
    "import requests"
   ]
  },
  {
   "cell_type": "code",
   "execution_count": 2,
   "metadata": {},
   "outputs": [],
   "source": [
    "def get_inflections(swe_lemma):\n",
    "    url = f\"https://ws.spraakbanken.gu.se/ws/karp/v4/query?q=extended||and|wf|equals|{swe_lemma}&resource=saldom\"\n",
    "\n",
    "    response = requests.get(url)\n",
    "\n",
    "    if response.status_code == 200:\n",
    "        result = response.json()\n",
    "\n",
    "        if not result['hits']['hits']:\n",
    "            return f\"Couldn't find inflections for {swe_lemma}\"\n",
    "        \n",
    "        return result['hits']['hits'][0]['_source']['WordForms']\n",
    "    \n",
    "    else:\n",
    "        return None"
   ]
  },
  {
   "cell_type": "code",
   "execution_count": 6,
   "metadata": {},
   "outputs": [
    {
     "name": "stdout",
     "output_type": "stream",
     "text": [
      "Couldn't find inflections for ukjff\n",
      "[{'msd': 'sg indef nom', 'writtenForm': 'elefant'}, {'msd': 'sg indef gen', 'writtenForm': 'elefants'}, {'msd': 'sg def nom', 'writtenForm': 'elefanten'}, {'msd': 'sg def gen', 'writtenForm': 'elefantens'}, {'msd': 'pl indef nom', 'writtenForm': 'elefanter'}, {'msd': 'pl indef gen', 'writtenForm': 'elefanters'}, {'msd': 'pl def nom', 'writtenForm': 'elefanterna'}, {'msd': 'pl def gen', 'writtenForm': 'elefanternas'}, {'msd': 'ci', 'writtenForm': 'elefant-'}, {'msd': 'ci', 'writtenForm': 'elefant'}, {'msd': 'cm', 'writtenForm': 'elefant-'}, {'msd': 'cm', 'writtenForm': 'elefant'}, {'msd': 'sms', 'writtenForm': 'elefant-'}]\n",
      "elefants\n"
     ]
    }
   ],
   "source": [
    "print(get_inflections('ukjff'))\n",
    "print(get_inflections('elefant'))\n",
    "print(get_inflections('elefant')[1]['writtenForm'])"
   ]
  }
 ],
 "metadata": {
  "kernelspec": {
   "display_name": "Python 3",
   "language": "python",
   "name": "python3"
  },
  "language_info": {
   "codemirror_mode": {
    "name": "ipython",
    "version": 3
   },
   "file_extension": ".py",
   "mimetype": "text/x-python",
   "name": "python",
   "nbconvert_exporter": "python",
   "pygments_lexer": "ipython3",
   "version": "3.10.2"
  }
 },
 "nbformat": 4,
 "nbformat_minor": 2
}
