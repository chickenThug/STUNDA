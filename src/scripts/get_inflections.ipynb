{
 "cells": [
  {
   "cell_type": "code",
   "execution_count": 1,
   "metadata": {},
   "outputs": [],
   "source": [
    "import requests\n",
    "from utils import split_swedish_word"
   ]
  },
  {
   "cell_type": "markdown",
   "metadata": {},
   "source": [
    "## Swedish inflections with SALDO"
   ]
  },
  {
   "cell_type": "code",
   "execution_count": 2,
   "metadata": {},
   "outputs": [],
   "source": [
    "def get_swe_inflections(swe_lemma, tag = False):\n",
    "    url = f\"https://ws.spraakbanken.gu.se/ws/karp/v4/query?q=extended||and|wf|equals|{swe_lemma}&resource=saldom\"\n",
    "\n",
    "    response = requests.get(url)\n",
    "\n",
    "    if response.status_code == 200:\n",
    "        result = response.json()\n",
    "\n",
    "        if not result['hits']['hits'] and not tag:\n",
    "            # time to split the word and try with the last past\n",
    "            first_part, last_part = split_swedish_word(swe_lemma)\n",
    "            if last_part:\n",
    "                inflections = get_swe_inflections(last_part, True)\n",
    "                # here i was thinking i could do some concatenation but i dont know if that will work?? \n",
    "                for inflection in inflections:\n",
    "                    inflection['writtenForm'] = first_part + inflection['writtenForm']\n",
    "                return inflections\n",
    "            return f\"No inflections for {swe_lemma}\"\n",
    "        elif not result['hits']['hits'] and tag:\n",
    "            return f\"No inflections for {swe_lemma}\"\n",
    "        \n",
    "        return result['hits']['hits'][0]['_source']['WordForms']\n",
    "    \n",
    "    else:\n",
    "        return None"
   ]
  },
  {
   "cell_type": "code",
   "execution_count": 3,
   "metadata": {},
   "outputs": [
    {
     "name": "stdout",
     "output_type": "stream",
     "text": [
      "No inflections for ukjff\n",
      "[{'msd': 'sg indef nom', 'writtenForm': 'nätverksrepresentation'}, {'msd': 'sg indef gen', 'writtenForm': 'nätverksrepresentations'}, {'msd': 'sg def nom', 'writtenForm': 'nätverksrepresentationen'}, {'msd': 'sg def gen', 'writtenForm': 'nätverksrepresentationens'}, {'msd': 'pl indef nom', 'writtenForm': 'nätverksrepresentationer'}, {'msd': 'pl indef gen', 'writtenForm': 'nätverksrepresentationers'}, {'msd': 'pl def nom', 'writtenForm': 'nätverksrepresentationerna'}, {'msd': 'pl def gen', 'writtenForm': 'nätverksrepresentationernas'}, {'msd': 'ci', 'writtenForm': 'nätverksrepresentations-'}, {'msd': 'ci', 'writtenForm': 'nätverksrepresentations'}, {'msd': 'cm', 'writtenForm': 'nätverksrepresentations-'}, {'msd': 'cm', 'writtenForm': 'nätverksrepresentations'}, {'msd': 'sms', 'writtenForm': 'nätverksrepresentations-'}]\n",
      "[{'msd': 'sg indef nom', 'writtenForm': 'elefant'}, {'msd': 'sg indef gen', 'writtenForm': 'elefants'}, {'msd': 'sg def nom', 'writtenForm': 'elefanten'}, {'msd': 'sg def gen', 'writtenForm': 'elefantens'}, {'msd': 'pl indef nom', 'writtenForm': 'elefanter'}, {'msd': 'pl indef gen', 'writtenForm': 'elefanters'}, {'msd': 'pl def nom', 'writtenForm': 'elefanterna'}, {'msd': 'pl def gen', 'writtenForm': 'elefanternas'}, {'msd': 'ci', 'writtenForm': 'elefant-'}, {'msd': 'ci', 'writtenForm': 'elefant'}, {'msd': 'cm', 'writtenForm': 'elefant-'}, {'msd': 'cm', 'writtenForm': 'elefant'}, {'msd': 'sms', 'writtenForm': 'elefant-'}]\n",
      "elefants\n"
     ]
    }
   ],
   "source": [
    "print(get_swe_inflections('ukjff'))\n",
    "print(get_swe_inflections('nätverksrepresentationer'))\n",
    "print(get_swe_inflections('elefant'))\n",
    "print(get_swe_inflections('elefant')[1]['writtenForm'])"
   ]
  },
  {
   "cell_type": "markdown",
   "metadata": {},
   "source": [
    "## English inflections using lemminflect"
   ]
  },
  {
   "cell_type": "code",
   "execution_count": 10,
   "metadata": {},
   "outputs": [],
   "source": [
    "from lemminflect import getAllInflections, getInflection"
   ]
  },
  {
   "cell_type": "code",
   "execution_count": 11,
   "metadata": {},
   "outputs": [
    {
     "name": "stdout",
     "output_type": "stream",
     "text": [
      "{}\n",
      "{'NNS': ('elephants', 'elephant'), 'NN': ('elephant',)}\n"
     ]
    }
   ],
   "source": [
    "print(getAllInflections('hchchh'))\n",
    "print(getAllInflections('elephant'))"
   ]
  },
  {
   "cell_type": "markdown",
   "metadata": {},
   "source": [
    "### Could also use \"getInflection\" and get inflections for the correct pos"
   ]
  },
  {
   "cell_type": "code",
   "execution_count": 12,
   "metadata": {},
   "outputs": [
    {
     "name": "stdout",
     "output_type": "stream",
     "text": [
      "{'VB': ('be',), 'VBD': ('was', 'were'), 'VBG': ('being',), 'VBN': ('been',), 'VBP': ('am', 'are'), 'VBZ': ('is',)}\n",
      "('was', 'were')\n"
     ]
    }
   ],
   "source": [
    "print(getAllInflections('be'))\n",
    "print(getInflection('be', tag='VBD'))"
   ]
  }
 ],
 "metadata": {
  "kernelspec": {
   "display_name": "Python 3",
   "language": "python",
   "name": "python3"
  },
  "language_info": {
   "codemirror_mode": {
    "name": "ipython",
    "version": 3
   },
   "file_extension": ".py",
   "mimetype": "text/x-python",
   "name": "python",
   "nbconvert_exporter": "python",
   "pygments_lexer": "ipython3",
   "version": "3.11.5"
  }
 },
 "nbformat": 4,
 "nbformat_minor": 2
}
