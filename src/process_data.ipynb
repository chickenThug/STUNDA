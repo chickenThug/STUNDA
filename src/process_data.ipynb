{
 "cells": [
  {
   "cell_type": "code",
   "execution_count": 2,
   "metadata": {},
   "outputs": [],
   "source": [
    "import json\n",
    "import pandas as pd\n",
    "\n",
    "path = \"../data/\"\n",
    "file = \"stunda-terms.jsonl\"\n",
    "\n",
    "def read_jsonl_file(file_path):\n",
    "    data = []\n",
    "    with open(file_path, 'r') as file:\n",
    "        for line in file:\n",
    "            # Load each line as a JSON object\n",
    "            json_object = json.loads(line)\n",
    "            data.append(json_object)\n",
    "    return data"
   ]
  },
  {
   "cell_type": "code",
   "execution_count": 6,
   "metadata": {},
   "outputs": [
    {
     "data": {
      "text/plain": [
       "{'eng': {'lemma': '\"ad hoc [Latin: \"\"for this\"\" (purpose/task/...)]\"',\n",
       "  'inflection': []},\n",
       " 'swe': {'lemma': 'till detta', 'inflection': []},\n",
       " 'pos': 'N?',\n",
       " 'status': '0',\n",
       " 'src': 'ICT',\n",
       " 'row': '60',\n",
       " 'comment': 'from data',\n",
       " 'synonyms': [],\n",
       " 'definition': None}"
      ]
     },
     "execution_count": 6,
     "metadata": {},
     "output_type": "execute_result"
    }
   ],
   "source": [
    "data = read_jsonl_file(path + file)\n",
    "\n",
    "data[7]"
   ]
  },
  {
   "cell_type": "code",
   "execution_count": null,
   "metadata": {},
   "outputs": [],
   "source": [
    "lemman = []\n",
    "inflections = []\n",
    "\n",
    "for entry in data:\n",
    "    status = \"bronze\"\n",
    "\n",
    "    if entry[\"status\"] == \"1\":\n",
    "        status = \"silver\"\n",
    "    lemman.append({\"id\": entry[\"src\"] + entry[\"row\"], \n",
    "                   \"eng_lemma\": entry[\"eng\"][\"lemma\"],\n",
    "                   \"swe_lemma\": entry[\"swe\"][\"lemma\"],\n",
    "                   \"status\": status,\n",
    "                   \"pos\": entry[\"pos\"],\n",
    "                   \"src\" : entry[\"src\"]\n",
    "                   })\n",
    "    \n",
    "    for inflection in entry[\"eng\"][\"inflection\"]:\n",
    "        inflections.append({\n",
    "            \"lemma_id\" : entry[\"src\"] + entry[\"row\"],\n",
    "            \"word\": inflection,\n",
    "            \"type\" : \"unknown\",\n",
    "            \"language\" : \"eng\" \n",
    "        })\n",
    "    \n",
    "    for inflection in entry[\"swe\"][\"inflection\"]:\n",
    "        inflections.append({\n",
    "            \"lemma_id\" : entry[\"src\"] + entry[\"row\"],\n",
    "            \"word\": inflection,\n",
    "            \"type\" : \"unknown\",\n",
    "            \"language\" : \"swe\" \n",
    "        })\n",
    "\n",
    "\n",
    "lemma_df = pd.json_normalize(lemman)\n",
    "inflection_df = pd.json_normalize(inflections)\n",
    "\n"
   ]
  }
 ],
 "metadata": {
  "kernelspec": {
   "display_name": "python11",
   "language": "python",
   "name": "python3"
  },
  "language_info": {
   "codemirror_mode": {
    "name": "ipython",
    "version": 3
   },
   "file_extension": ".py",
   "mimetype": "text/x-python",
   "name": "python",
   "nbconvert_exporter": "python",
   "pygments_lexer": "ipython3",
   "version": "3.11.5"
  }
 },
 "nbformat": 4,
 "nbformat_minor": 2
}
