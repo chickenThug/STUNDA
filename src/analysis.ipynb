{
 "cells": [
  {
   "cell_type": "code",
   "execution_count": 71,
   "metadata": {},
   "outputs": [],
   "source": [
    "import json\n",
    "import requests"
   ]
  },
  {
   "cell_type": "markdown",
   "metadata": {},
   "source": [
    "## Functions for Skrutten APIs"
   ]
  },
  {
   "cell_type": "markdown",
   "metadata": {},
   "source": [
    "### Stava"
   ]
  },
  {
   "cell_type": "code",
   "execution_count": 72,
   "metadata": {},
   "outputs": [],
   "source": [
    "def spell_check(words, coding='json'):\n",
    "    url = 'https://skrutten.csc.kth.se/granskaapi/spell/'\n",
    "\n",
    "    if isinstance(words, list):\n",
    "        words = '\\n'.join(words)\n",
    "\n",
    "    params = {'coding': coding, 'words': words}\n",
    "\n",
    "    response = requests.post(url, data=params)\n",
    "\n",
    "    if response.status_code == 200:\n",
    "        result = response.json()\n",
    "        return result\n",
    "    else:\n",
    "        return None"
   ]
  },
  {
   "cell_type": "markdown",
   "metadata": {},
   "source": [
    "### Taggstava"
   ]
  },
  {
   "cell_type": "code",
   "execution_count": 73,
   "metadata": {},
   "outputs": [],
   "source": [
    "def word_class_tagging(words, coding='json'):\n",
    "    url = 'https://skrutten.csc.kth.se/granskaapi/taggstava/'\n",
    "\n",
    "    if isinstance(words, list):\n",
    "        words = '\\n'.join(words)\n",
    "\n",
    "    params = {'coding': coding, 'words': words}\n",
    "\n",
    "    response = requests.post(url, data=params)\n",
    "\n",
    "    if response.status_code == 200:\n",
    "        result = response.json()\n",
    "        return result\n",
    "    else:\n",
    "        return None"
   ]
  },
  {
   "cell_type": "markdown",
   "metadata": {},
   "source": [
    "### Särstava"
   ]
  },
  {
   "cell_type": "code",
   "execution_count": 74,
   "metadata": {},
   "outputs": [],
   "source": [
    "def compound_check(words, coding='json'):\n",
    "    url = 'https://skrutten.csc.kth.se/granskaapi/compound/best'\n",
    "\n",
    "    if isinstance(words, list):\n",
    "        words = '\\n'.join(words)\n",
    "\n",
    "    params = {'coding': coding, 'words': words}\n",
    "\n",
    "    response = requests.post(url, data=params)\n",
    "\n",
    "    if response.status_code == 200:\n",
    "        result = response.json()\n",
    "        return result\n",
    "    else:\n",
    "        return None"
   ]
  },
  {
   "cell_type": "markdown",
   "metadata": {},
   "source": [
    "## Check grammar"
   ]
  },
  {
   "cell_type": "code",
   "execution_count": 75,
   "metadata": {},
   "outputs": [],
   "source": [
    "def read_terms(file_path):\n",
    "    with open(file_path, 'r', encoding='utf-8') as file:\n",
    "        terms = [json.loads(line) for line in file if line.strip()]\n",
    "    return terms\n",
    "\n",
    "# get the swedish lemmas, replace \" with blank, and remove terms with | and spaces\n",
    "def get_swedish_lemmas(terms):\n",
    "    return [term['swe']['lemma'].replace('\"', '') for term in terms if term['swe']['lemma'] and ' ' not in term['swe']['lemma'] and \"|\" not in term['swe']['lemma']]"
   ]
  },
  {
   "cell_type": "code",
   "execution_count": 80,
   "metadata": {},
   "outputs": [
    {
     "name": "stdout",
     "output_type": "stream",
     "text": [
      "3787\n"
     ]
    }
   ],
   "source": [
    "terms_file_path = 'stunda-terms.jsonl'\n",
    "\n",
    "terms_to_check = read_terms(terms_file_path)\n",
    "swedish_lemmas = get_swedish_lemmas(terms_to_check)\n",
    "print(len(swedish_lemmas))\n"
   ]
  },
  {
   "cell_type": "code",
   "execution_count": 81,
   "metadata": {},
   "outputs": [
    {
     "name": "stdout",
     "output_type": "stream",
     "text": [
      "[{'word': 'realtid', 'suggestions': ['realtid'], 'correct': True}, {'word': 'Osäkra', 'suggestions': ['Osäkra'], 'correct': True}, {'word': 'D-metod', 'suggestions': ['D-metod'], 'correct': True}, {'word': 'D-modellering', 'suggestions': ['D-modellering'], 'correct': True}, {'word': 'D-utformning', 'suggestions': ['D-utformning'], 'correct': True}]\n",
      "226\n",
      "[{'word': 'accelerometern', 'suggestions': [], 'correct': False}, {'word': 'atkomstkontroll', 'suggestions': ['ankomstkontroll,utkomstkontroll,avkomstkontroll'], 'correct': False}, {'word': 'agil', 'suggestions': ['agio,askil'], 'correct': False}, {'word': 'agila', 'suggestions': ['askila,argila,dagila,jagila,agaila,lagila,tagila'], 'correct': False}, {'word': 'aliaserande', 'suggestions': ['aliasreande,aliasekande,aliasenande,aliasexande,aliasärande,aliasyrande'], 'correct': False}]\n"
     ]
    }
   ],
   "source": [
    "# SKRUTTEN STAVA\n",
    "spell_checking = spell_check(swedish_lemmas)\n",
    "print(spell_checking[:5])\n",
    "\n",
    "# Filter and print elements where 'correct' is False\n",
    "incorrect_spellings = [item for item in spell_checking if not item['correct']]\n",
    "print(len(incorrect_spellings))\n",
    "print(incorrect_spellings[:5])"
   ]
  },
  {
   "cell_type": "code",
   "execution_count": 78,
   "metadata": {},
   "outputs": [
    {
     "name": "stdout",
     "output_type": "stream",
     "text": [
      "[{'word': 'realtid', 'tags': ['nn.utr.sin.ind.nom']}, {'word': 'Osäkra', 'tags': ['vb.inf.akt', 'vb.imp.akt', 'jj.pos.utr/neu.sin.def.nom', 'jj.pos.utr/neu.plu.ind/def.nom']}, {'word': 'D-metod', 'tags': ['nn.utr.sin.ind.nom']}, {'word': 'D-modellering', 'tags': ['nn.utr.sin.ind.nom']}, {'word': 'D-utformning', 'tags': ['nn.utr.sin.ind.nom']}]\n"
     ]
    }
   ],
   "source": [
    "# SKRUTTEN TAGGSTAVA\n",
    "class_tagging = word_class_tagging(swedish_lemmas)\n",
    "print(class_tagging[:5])"
   ]
  },
  {
   "cell_type": "code",
   "execution_count": 79,
   "metadata": {},
   "outputs": [
    {
     "name": "stdout",
     "output_type": "stream",
     "text": [
      "[{'word': 'realtid', 'parts': ['real|tid']}, {'word': 'Osäkra', 'parts': []}, {'word': '2D-metod', 'parts': []}, {'word': '3D-modellering', 'parts': []}, {'word': '3D-utformning', 'parts': []}]\n"
     ]
    }
   ],
   "source": [
    "# SKRUTTEN SÄRSTAVA\n",
    "compounds = compound_check(swedish_lemmas)\n",
    "print(compounds[:5])"
   ]
  }
 ],
 "metadata": {
  "kernelspec": {
   "display_name": "Python 3",
   "language": "python",
   "name": "python3"
  },
  "language_info": {
   "codemirror_mode": {
    "name": "ipython",
    "version": 3
   },
   "file_extension": ".py",
   "mimetype": "text/x-python",
   "name": "python",
   "nbconvert_exporter": "python",
   "pygments_lexer": "ipython3",
   "version": "3.10.2"
  }
 },
 "nbformat": 4,
 "nbformat_minor": 2
}
